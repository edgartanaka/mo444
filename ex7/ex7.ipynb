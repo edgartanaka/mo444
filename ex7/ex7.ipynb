{
 "cells": [
  {
   "cell_type": "markdown",
   "metadata": {
    "deletable": true,
    "editable": true
   },
   "source": [
    "# Exercicio 7\n",
    "- Edgar Tanaka\n",
    "- RA 023577\n",
    "- Machine Learning (Prof. Jacques Wainer)\n",
    "\n",
    "Os dados quakes.csv representam dodos reais de terremotos (nao sei de que periodo). A primeira coluna é a profundidado do terremoto, a segunda e terceira a latitude e longitude, e a quarta a scala Richer do terremoto. Nos queremos discobrir se ha clusters/grupos de terremotos.\n",
    "\n",
    "Estandarize cada coluna\n",
    "\n",
    "* Rode o K-means para K=2..10, use random_state=1, e imprima (com 2 casas decimais) a silueta media e o indice de Calinski-Harabaz. Qual parece ser o melhor valor/valores para K?\n",
    "\n",
    "* Talvez os dados de latitude e longitude estao estragando a clusterizacao. Remova essa colunas e repita a tarefa acima? Discuta os resultados\n",
    "\n",
    "* Rode a clusterizacao hierarquica (metodo Ward) para 2..10 clusters para os dados de 4 dimensoes e calcule os 2 indices acima? Qual o melhor/melhores valores do numero de clusters?\n",
    "\n",
    "* Rode o DBScan nos dados de 4 dimensoes. Use 5 como min_samples. Construa o grafico da distancia dos 5-NN e descubra o valor do eps. (Se voce nao conseguir gerar o grafico, use eps = 0.75 mas essa opcao perderÃ¡ alguns pontos nesta questao). Qual o nÃºmero de clusters? Calcule os indices acima para os clusteres.\n",
    "\n",
    "* Discuta quantos clusters voce acha apropriado para esse problema.\n",
    "\n"
   ]
  },
  {
   "cell_type": "markdown",
   "metadata": {
    "deletable": true,
    "editable": true
   },
   "source": [
    "# KMeans: 4 dimensões\n",
    "\n",
    "O score silhouette vai de -1 a +1, onde +1 indica que os clusters estão mais bem separados de acordo com a distância euclidiana. A diferença entre os scores variou pouco: 0.32 a 0.37. O score silhouette mais alto (0.37) foi com o K=7.\n",
    "\n",
    "Já de acordo com o Calinski-Harabaz, quanto maior o score Calinski-Harabaz, melhor é a clusterização. Sendo assim, o K ideal é igual a 6. O score foi de 1002.26."
   ]
  },
  {
   "cell_type": "code",
   "execution_count": 3,
   "metadata": {
    "collapsed": false,
    "deletable": true,
    "editable": true
   },
   "outputs": [
    {
     "data": {
      "text/html": [
       "<div>\n",
       "<table border=\"1\" class=\"dataframe\">\n",
       "  <thead>\n",
       "    <tr style=\"text-align: right;\">\n",
       "      <th></th>\n",
       "      <th>K</th>\n",
       "      <th>score</th>\n",
       "    </tr>\n",
       "  </thead>\n",
       "  <tbody>\n",
       "    <tr>\n",
       "      <th>0</th>\n",
       "      <td>2.0</td>\n",
       "      <td>0.32</td>\n",
       "    </tr>\n",
       "    <tr>\n",
       "      <th>1</th>\n",
       "      <td>3.0</td>\n",
       "      <td>0.35</td>\n",
       "    </tr>\n",
       "    <tr>\n",
       "      <th>2</th>\n",
       "      <td>4.0</td>\n",
       "      <td>0.34</td>\n",
       "    </tr>\n",
       "    <tr>\n",
       "      <th>3</th>\n",
       "      <td>5.0</td>\n",
       "      <td>0.34</td>\n",
       "    </tr>\n",
       "    <tr>\n",
       "      <th>4</th>\n",
       "      <td>6.0</td>\n",
       "      <td>0.36</td>\n",
       "    </tr>\n",
       "    <tr>\n",
       "      <th>5</th>\n",
       "      <td>7.0</td>\n",
       "      <td>0.37</td>\n",
       "    </tr>\n",
       "    <tr>\n",
       "      <th>6</th>\n",
       "      <td>8.0</td>\n",
       "      <td>0.36</td>\n",
       "    </tr>\n",
       "    <tr>\n",
       "      <th>7</th>\n",
       "      <td>9.0</td>\n",
       "      <td>0.36</td>\n",
       "    </tr>\n",
       "    <tr>\n",
       "      <th>8</th>\n",
       "      <td>10.0</td>\n",
       "      <td>0.35</td>\n",
       "    </tr>\n",
       "  </tbody>\n",
       "</table>\n",
       "</div>"
      ],
      "text/plain": [
       "      K  score\n",
       "0   2.0   0.32\n",
       "1   3.0   0.35\n",
       "2   4.0   0.34\n",
       "3   5.0   0.34\n",
       "4   6.0   0.36\n",
       "5   7.0   0.37\n",
       "6   8.0   0.36\n",
       "7   9.0   0.36\n",
       "8  10.0   0.35"
      ]
     },
     "metadata": {},
     "output_type": "display_data"
    },
    {
     "data": {
      "image/png": "[encoded data removed]",
      "text/plain": [
       "<matplotlib.figure.Figure at 0x10d582400>"
      ]
     },
     "metadata": {},
     "output_type": "display_data"
    },
    {
     "data": {
      "text/html": [
       "<div>\n",
       "<table border=\"1\" class=\"dataframe\">\n",
       "  <thead>\n",
       "    <tr style=\"text-align: right;\">\n",
       "      <th></th>\n",
       "      <th>K</th>\n",
       "      <th>score</th>\n",
       "    </tr>\n",
       "  </thead>\n",
       "  <tbody>\n",
       "    <tr>\n",
       "      <th>0</th>\n",
       "      <td>2.0</td>\n",
       "      <td>675.01</td>\n",
       "    </tr>\n",
       "    <tr>\n",
       "      <th>1</th>\n",
       "      <td>3.0</td>\n",
       "      <td>785.77</td>\n",
       "    </tr>\n",
       "    <tr>\n",
       "      <th>2</th>\n",
       "      <td>4.0</td>\n",
       "      <td>866.69</td>\n",
       "    </tr>\n",
       "    <tr>\n",
       "      <th>3</th>\n",
       "      <td>5.0</td>\n",
       "      <td>957.38</td>\n",
       "    </tr>\n",
       "    <tr>\n",
       "      <th>4</th>\n",
       "      <td>6.0</td>\n",
       "      <td>1002.26</td>\n",
       "    </tr>\n",
       "    <tr>\n",
       "      <th>5</th>\n",
       "      <td>7.0</td>\n",
       "      <td>971.18</td>\n",
       "    </tr>\n",
       "    <tr>\n",
       "      <th>6</th>\n",
       "      <td>8.0</td>\n",
       "      <td>949.16</td>\n",
       "    </tr>\n",
       "    <tr>\n",
       "      <th>7</th>\n",
       "      <td>9.0</td>\n",
       "      <td>938.17</td>\n",
       "    </tr>\n",
       "    <tr>\n",
       "      <th>8</th>\n",
       "      <td>10.0</td>\n",
       "      <td>925.82</td>\n",
       "    </tr>\n",
       "  </tbody>\n",
       "</table>\n",
       "</div>"
      ],
      "text/plain": [
       "      K    score\n",
       "0   2.0   675.01\n",
       "1   3.0   785.77\n",
       "2   4.0   866.69\n",
       "3   5.0   957.38\n",
       "4   6.0  1002.26\n",
       "5   7.0   971.18\n",
       "6   8.0   949.16\n",
       "7   9.0   938.17\n",
       "8  10.0   925.82"
      ]
     },
     "metadata": {},
     "output_type": "display_data"
    },
    {
     "data": {
      "image/png": "[encoded data removed]",
      "text/plain": [
       "<matplotlib.figure.Figure at 0x10debacf8>"
      ]
     },
     "metadata": {},
     "output_type": "display_data"
    }
   ],
   "source": [
    "import pandas as pd\n",
    "import numpy as np\n",
    "from sklearn import preprocessing, cluster, metrics\n",
    "import matplotlib.pyplot as plt\n",
    "from IPython.display import display, HTML\n",
    "\n",
    "MAX_CLUSTERS = 10\n",
    "\n",
    "def plot_scores(scores, title): \n",
    "    k_values = range(2, MAX_CLUSTERS+1)\n",
    "    \n",
    "    # print table with scores vs K\n",
    "    scores_df = pd.DataFrame.from_records([k_values, scores]).transpose()\n",
    "    scores_df.columns = ['K','score']\n",
    "    scores_df = scores_df.round({'K': 0, 'score': 2})\n",
    "    display(scores_df)\n",
    "    \n",
    "    # plot scores vs K\n",
    "    plt.plot(k_values, scores)\n",
    "    plt.title(title)\n",
    "    plt.xlabel('K')\n",
    "    plt.ylabel('Score')\n",
    "    plt.show()\n",
    "\n",
    "    \n",
    "def get_data_standardized():\n",
    "    X = pd.read_csv('quakes.csv', names=['deep', 'lat', 'lon', 'richter'])\n",
    "\n",
    "    # standardization \n",
    "    scaler = preprocessing.StandardScaler()\n",
    "    return scaler.fit_transform(X)\n",
    "    \n",
    "\n",
    "def run_kmeans(X):\n",
    "    silhouettes = []\n",
    "    calinskis = []\n",
    "    \n",
    "    for k in range(2, MAX_CLUSTERS+1):\n",
    "        # kmeans\n",
    "        kmeans = cluster.KMeans(n_clusters=k, random_state=1).fit(X)\n",
    "\n",
    "        # silhouette\n",
    "        score = metrics.silhouette_score(X=X, labels=kmeans.labels_, random_state=1)\n",
    "        silhouettes.append(score)\n",
    "\n",
    "        # Calinski-Harabaz\n",
    "        score = metrics.calinski_harabaz_score(X=X, labels=kmeans.labels_)\n",
    "        calinskis.append(score)\n",
    "    \n",
    "    plot_scores(silhouettes, 'Silhouette')\n",
    "    plot_scores(calinskis, 'Calinski-Harabaz')  \n",
    "\n",
    "\n",
    "X = get_data_standardized()\n",
    "run_kmeans(X)"
   ]
  },
  {
   "cell_type": "markdown",
   "metadata": {
    "deletable": true,
    "editable": true
   },
   "source": [
    "# KMeans: Análise do K (2 dimensões)\n",
    "\n",
    "Ao removermos as dimensões de latitude e longitude, os scores Silhouette e Calinski-Harabaz geraram conclusões opostas.\n",
    "\n",
    "Para o Silhouette, o melhor K é igual a 2 (o score foi de 0.88).\n",
    "\n",
    "Para o Calinski-Harabaz, o melhor K é igual a 10 (o score foi de 28131.13)\n",
    "\n",
    "Como podemos notar, as conclusões foram praticamente opostas o que indica que remover a latitude e longitude não permitiu uma boa clusterização."
   ]
  },
  {
   "cell_type": "code",
   "execution_count": 4,
   "metadata": {
    "collapsed": false,
    "deletable": true,
    "editable": true
   },
   "outputs": [
    {
     "data": {
      "text/html": [
       "<div>\n",
       "<table border=\"1\" class=\"dataframe\">\n",
       "  <thead>\n",
       "    <tr style=\"text-align: right;\">\n",
       "      <th></th>\n",
       "      <th>K</th>\n",
       "      <th>score</th>\n",
       "    </tr>\n",
       "  </thead>\n",
       "  <tbody>\n",
       "    <tr>\n",
       "      <th>0</th>\n",
       "      <td>2.0</td>\n",
       "      <td>0.88</td>\n",
       "    </tr>\n",
       "    <tr>\n",
       "      <th>1</th>\n",
       "      <td>3.0</td>\n",
       "      <td>0.73</td>\n",
       "    </tr>\n",
       "    <tr>\n",
       "      <th>2</th>\n",
       "      <td>4.0</td>\n",
       "      <td>0.71</td>\n",
       "    </tr>\n",
       "    <tr>\n",
       "      <th>3</th>\n",
       "      <td>5.0</td>\n",
       "      <td>0.61</td>\n",
       "    </tr>\n",
       "    <tr>\n",
       "      <th>4</th>\n",
       "      <td>6.0</td>\n",
       "      <td>0.58</td>\n",
       "    </tr>\n",
       "    <tr>\n",
       "      <th>5</th>\n",
       "      <td>7.0</td>\n",
       "      <td>0.57</td>\n",
       "    </tr>\n",
       "    <tr>\n",
       "      <th>6</th>\n",
       "      <td>8.0</td>\n",
       "      <td>0.57</td>\n",
       "    </tr>\n",
       "    <tr>\n",
       "      <th>7</th>\n",
       "      <td>9.0</td>\n",
       "      <td>0.57</td>\n",
       "    </tr>\n",
       "    <tr>\n",
       "      <th>8</th>\n",
       "      <td>10.0</td>\n",
       "      <td>0.57</td>\n",
       "    </tr>\n",
       "  </tbody>\n",
       "</table>\n",
       "</div>"
      ],
      "text/plain": [
       "      K  score\n",
       "0   2.0   0.88\n",
       "1   3.0   0.73\n",
       "2   4.0   0.71\n",
       "3   5.0   0.61\n",
       "4   6.0   0.58\n",
       "5   7.0   0.57\n",
       "6   8.0   0.57\n",
       "7   9.0   0.57\n",
       "8  10.0   0.57"
      ]
     },
     "metadata": {},
     "output_type": "display_data"
    },
    {
     "data": {
      "image/png": "[encoded data removed]",
      "text/plain": [
       "<matplotlib.figure.Figure at 0x10ddd39b0>"
      ]
     },
     "metadata": {},
     "output_type": "display_data"
    },
    {
     "data": {
      "text/html": [
       "<div>\n",
       "<table border=\"1\" class=\"dataframe\">\n",
       "  <thead>\n",
       "    <tr style=\"text-align: right;\">\n",
       "      <th></th>\n",
       "      <th>K</th>\n",
       "      <th>score</th>\n",
       "    </tr>\n",
       "  </thead>\n",
       "  <tbody>\n",
       "    <tr>\n",
       "      <th>0</th>\n",
       "      <td>2.0</td>\n",
       "      <td>9304.49</td>\n",
       "    </tr>\n",
       "    <tr>\n",
       "      <th>1</th>\n",
       "      <td>3.0</td>\n",
       "      <td>11845.08</td>\n",
       "    </tr>\n",
       "    <tr>\n",
       "      <th>2</th>\n",
       "      <td>4.0</td>\n",
       "      <td>12687.19</td>\n",
       "    </tr>\n",
       "    <tr>\n",
       "      <th>3</th>\n",
       "      <td>5.0</td>\n",
       "      <td>15552.20</td>\n",
       "    </tr>\n",
       "    <tr>\n",
       "      <th>4</th>\n",
       "      <td>6.0</td>\n",
       "      <td>20092.87</td>\n",
       "    </tr>\n",
       "    <tr>\n",
       "      <th>5</th>\n",
       "      <td>7.0</td>\n",
       "      <td>21289.21</td>\n",
       "    </tr>\n",
       "    <tr>\n",
       "      <th>6</th>\n",
       "      <td>8.0</td>\n",
       "      <td>23735.15</td>\n",
       "    </tr>\n",
       "    <tr>\n",
       "      <th>7</th>\n",
       "      <td>9.0</td>\n",
       "      <td>25838.82</td>\n",
       "    </tr>\n",
       "    <tr>\n",
       "      <th>8</th>\n",
       "      <td>10.0</td>\n",
       "      <td>28131.13</td>\n",
       "    </tr>\n",
       "  </tbody>\n",
       "</table>\n",
       "</div>"
      ],
      "text/plain": [
       "      K     score\n",
       "0   2.0   9304.49\n",
       "1   3.0  11845.08\n",
       "2   4.0  12687.19\n",
       "3   5.0  15552.20\n",
       "4   6.0  20092.87\n",
       "5   7.0  21289.21\n",
       "6   8.0  23735.15\n",
       "7   9.0  25838.82\n",
       "8  10.0  28131.13"
      ]
     },
     "metadata": {},
     "output_type": "display_data"
    },
    {
     "data": {
      "image/png": "[encoded data removed]",
      "text/plain": [
       "<matplotlib.figure.Figure at 0x1156f0dd8>"
      ]
     },
     "metadata": {},
     "output_type": "display_data"
    }
   ],
   "source": [
    "X = pd.read_csv('quakes.csv', names=['deep', 'lat', 'lon', 'richter'])\n",
    "\n",
    "# remove lat and lon\n",
    "del X['lat']\n",
    "del X['lon']\n",
    "run_kmeans(X)"
   ]
  },
  {
   "cell_type": "markdown",
   "metadata": {
    "deletable": true,
    "editable": true
   },
   "source": [
    "# Ward\n",
    "\n",
    "Analisando os índices Silhouette, o melhor K seria K=3. No entanto, devido à pequena diferença, os índices para K=7 e K=10 também são bons. \n",
    "\n",
    "Para o índice Calinski-Harabaz, K=5 se mostra como a melhor clusterização. O range entre K=6 e K=10 também parecem ser boas clusterizações."
   ]
  },
  {
   "cell_type": "code",
   "execution_count": 5,
   "metadata": {
    "collapsed": false,
    "deletable": true,
    "editable": true
   },
   "outputs": [
    {
     "data": {
      "text/html": [
       "<div>\n",
       "<table border=\"1\" class=\"dataframe\">\n",
       "  <thead>\n",
       "    <tr style=\"text-align: right;\">\n",
       "      <th></th>\n",
       "      <th>K</th>\n",
       "      <th>score</th>\n",
       "    </tr>\n",
       "  </thead>\n",
       "  <tbody>\n",
       "    <tr>\n",
       "      <th>0</th>\n",
       "      <td>2.0</td>\n",
       "      <td>0.31</td>\n",
       "    </tr>\n",
       "    <tr>\n",
       "      <th>1</th>\n",
       "      <td>3.0</td>\n",
       "      <td>0.33</td>\n",
       "    </tr>\n",
       "    <tr>\n",
       "      <th>2</th>\n",
       "      <td>4.0</td>\n",
       "      <td>0.26</td>\n",
       "    </tr>\n",
       "    <tr>\n",
       "      <th>3</th>\n",
       "      <td>5.0</td>\n",
       "      <td>0.29</td>\n",
       "    </tr>\n",
       "    <tr>\n",
       "      <th>4</th>\n",
       "      <td>6.0</td>\n",
       "      <td>0.31</td>\n",
       "    </tr>\n",
       "    <tr>\n",
       "      <th>5</th>\n",
       "      <td>7.0</td>\n",
       "      <td>0.31</td>\n",
       "    </tr>\n",
       "    <tr>\n",
       "      <th>6</th>\n",
       "      <td>8.0</td>\n",
       "      <td>0.31</td>\n",
       "    </tr>\n",
       "    <tr>\n",
       "      <th>7</th>\n",
       "      <td>9.0</td>\n",
       "      <td>0.31</td>\n",
       "    </tr>\n",
       "    <tr>\n",
       "      <th>8</th>\n",
       "      <td>10.0</td>\n",
       "      <td>0.32</td>\n",
       "    </tr>\n",
       "  </tbody>\n",
       "</table>\n",
       "</div>"
      ],
      "text/plain": [
       "      K  score\n",
       "0   2.0   0.31\n",
       "1   3.0   0.33\n",
       "2   4.0   0.26\n",
       "3   5.0   0.29\n",
       "4   6.0   0.31\n",
       "5   7.0   0.31\n",
       "6   8.0   0.31\n",
       "7   9.0   0.31\n",
       "8  10.0   0.32"
      ]
     },
     "metadata": {},
     "output_type": "display_data"
    },
    {
     "data": {
      "image/png": "[encoded data removed]",
      "text/plain": [
       "<matplotlib.figure.Figure at 0x115704e48>"
      ]
     },
     "metadata": {},
     "output_type": "display_data"
    },
    {
     "data": {
      "text/html": [
       "<div>\n",
       "<table border=\"1\" class=\"dataframe\">\n",
       "  <thead>\n",
       "    <tr style=\"text-align: right;\">\n",
       "      <th></th>\n",
       "      <th>K</th>\n",
       "      <th>score</th>\n",
       "    </tr>\n",
       "  </thead>\n",
       "  <tbody>\n",
       "    <tr>\n",
       "      <th>0</th>\n",
       "      <td>2.0</td>\n",
       "      <td>536.44</td>\n",
       "    </tr>\n",
       "    <tr>\n",
       "      <th>1</th>\n",
       "      <td>3.0</td>\n",
       "      <td>698.08</td>\n",
       "    </tr>\n",
       "    <tr>\n",
       "      <th>2</th>\n",
       "      <td>4.0</td>\n",
       "      <td>731.08</td>\n",
       "    </tr>\n",
       "    <tr>\n",
       "      <th>3</th>\n",
       "      <td>5.0</td>\n",
       "      <td>771.95</td>\n",
       "    </tr>\n",
       "    <tr>\n",
       "      <th>4</th>\n",
       "      <td>6.0</td>\n",
       "      <td>750.03</td>\n",
       "    </tr>\n",
       "    <tr>\n",
       "      <th>5</th>\n",
       "      <td>7.0</td>\n",
       "      <td>741.82</td>\n",
       "    </tr>\n",
       "    <tr>\n",
       "      <th>6</th>\n",
       "      <td>8.0</td>\n",
       "      <td>733.85</td>\n",
       "    </tr>\n",
       "    <tr>\n",
       "      <th>7</th>\n",
       "      <td>9.0</td>\n",
       "      <td>745.43</td>\n",
       "    </tr>\n",
       "    <tr>\n",
       "      <th>8</th>\n",
       "      <td>10.0</td>\n",
       "      <td>749.07</td>\n",
       "    </tr>\n",
       "  </tbody>\n",
       "</table>\n",
       "</div>"
      ],
      "text/plain": [
       "      K   score\n",
       "0   2.0  536.44\n",
       "1   3.0  698.08\n",
       "2   4.0  731.08\n",
       "3   5.0  771.95\n",
       "4   6.0  750.03\n",
       "5   7.0  741.82\n",
       "6   8.0  733.85\n",
       "7   9.0  745.43\n",
       "8  10.0  749.07"
      ]
     },
     "metadata": {},
     "output_type": "display_data"
    },
    {
     "data": {
      "image/png": "[encoded data removed]",
      "text/plain": [
       "<matplotlib.figure.Figure at 0x11599bcf8>"
      ]
     },
     "metadata": {},
     "output_type": "display_data"
    }
   ],
   "source": [
    "def run_ward(X):\n",
    "    silhouettes = []\n",
    "    calinskis = []\n",
    "    \n",
    "    for k in range(2, MAX_CLUSTERS+1):\n",
    "        # kmeans\n",
    "        ward = cluster.AgglomerativeClustering(n_clusters=k, linkage='ward').fit(X)\n",
    "\n",
    "        # silhouette\n",
    "        score = metrics.silhouette_score(X=X, labels=ward.labels_)\n",
    "        silhouettes.append(score)\n",
    "\n",
    "        # Calinski-Harabaz\n",
    "        score = metrics.calinski_harabaz_score(X=X, labels=ward.labels_)\n",
    "        calinskis.append(score)\n",
    "    \n",
    "    plot_scores(silhouettes, 'Silhouette')\n",
    "    plot_scores(calinskis, 'Calinski-Harabaz')  \n",
    "    \n",
    "def ward_all():\n",
    "    X = get_data_standardized()\n",
    "    run_ward(X)\n",
    "    \n",
    "ward_all()"
   ]
  },
  {
   "cell_type": "markdown",
   "metadata": {
    "deletable": true,
    "editable": true
   },
   "source": [
    "# DBScan: find eps\n",
    "\n",
    "Ao plotarmos as distâncias 5-NN para todos os pontos, podemos perceber um \"joelho\" no gráfico quando a distância é maior que 0.75. Isso significa que podemos usar eps=0.75 para o DBScan."
   ]
  },
  {
   "cell_type": "code",
   "execution_count": 15,
   "metadata": {
    "collapsed": false,
    "deletable": true,
    "editable": true
   },
   "outputs": [
    {
     "data": {
      "image/png": "[encoded data removed]",
      "text/plain": [
       "<matplotlib.figure.Figure at 0x115a54780>"
      ]
     },
     "metadata": {},
     "output_type": "display_data"
    }
   ],
   "source": [
    "def find_eps():\n",
    "    import numpy as np\n",
    "    from sklearn.neighbors import NearestNeighbors\n",
    "    X = get_data_standardized()\n",
    "    \n",
    "    # we use 6 here because it also includes each point itself in the distances\n",
    "    neigh = NearestNeighbors(n_neighbors=6) \n",
    "    neigh.fit(X)\n",
    "    dist, ind = neigh.kneighbors(X, return_distance=True)    \n",
    "    plt.plot(np.sort(np.array(dist[:,-1]).flatten()))\n",
    "    plt.title('5-NN distances')\n",
    "    plt.ylabel('Distance')\n",
    "    plt.show()\n",
    "    \n",
    "find_eps()"
   ]
  },
  {
   "cell_type": "markdown",
   "metadata": {
    "deletable": true,
    "editable": true
   },
   "source": [
    "# DBScan: cluster and scores\n",
    "\n",
    "Usando eps=0.75, executamos o DBScan e obtivemos 7 clusters.\n",
    "\n",
    "Ao calcular os índices Silhouette e Calinski-Harabaz, notamos que seu valor está consideravelmente abaixo das outras clusterizações com Ward e KMeans. Enquanto que o Silhouette estava por volta de 0.35 no Ward e no KMeans, no DBScan este valor caiu para 0.19. Quando comparamos o índice Calinski-Harabaz, a queda foi de 3 dígitos (aproximadamente 750) para 2 dígitos (51.42)."
   ]
  },
  {
   "cell_type": "code",
   "execution_count": 9,
   "metadata": {
    "collapsed": false,
    "deletable": true,
    "editable": true
   },
   "outputs": [
    {
     "name": "stdout",
     "output_type": "stream",
     "text": [
      "Number of clusters: 7\n",
      "Silhouette: 0.19\n",
      "Calinski-Harabaz: 51.42\n"
     ]
    }
   ],
   "source": [
    "def dbscan_all():\n",
    "    X = get_data_standardized()\n",
    "    db = cluster.DBSCAN(eps=0.75, min_samples=5).fit(X)\n",
    "\n",
    "    core_samples_mask = np.zeros_like(db.labels_, dtype=bool)\n",
    "    core_samples_mask[db.core_sample_indices_] = True\n",
    "    labels = db.labels_\n",
    "    \n",
    "    # Number of clusters in labels, ignoring noise if present.\n",
    "    n_clusters_ = len(set(labels)) - (1 if -1 in labels else 0)\n",
    "\n",
    "    print('Number of clusters: %d' % n_clusters_)\n",
    "    \n",
    "    # silhouette\n",
    "    score = metrics.silhouette_score(X=X, labels=db.labels_)\n",
    "    print(\"Silhouette:\", round(score, 2))\n",
    "\n",
    "    # Calinski-Harabaz\n",
    "    score = metrics.calinski_harabaz_score(X=X, labels=db.labels_)\n",
    "    print(\"Calinski-Harabaz:\", round(score, 2))\n",
    "     \n",
    "dbscan_all()"
   ]
  },
  {
   "cell_type": "markdown",
   "metadata": {},
   "source": [
    "# Conclusões finais\n",
    "\n",
    "Tanto para o KMeans (4 dimensões), Ward e DBScan o valor de K=7 parece uma boa clusterização. De forma mais geral, eu diria que K=6 e K=7 parecem ser boas clusterizações para estes dados. Alguns outros valores também apareceram como valores de K interessantes mas não foi algo consistente nos 3 experimentos executados neste exercício."
   ]
  },
  {
   "cell_type": "markdown",
   "metadata": {
    "deletable": true,
    "editable": true
   },
   "source": [
    "# References\n",
    "* http://scikit-learn.org/stable/auto_examples/cluster/plot_kmeans_silhouette_analysis.html\n",
    "\n"
   ]
  }
 ],
 "metadata": {
  "kernelspec": {
   "display_name": "Python 3",
   "language": "python",
   "name": "python3"
  },
  "language_info": {
   "codemirror_mode": {
    "name": "ipython",
    "version": 3
   },
   "file_extension": ".py",
   "mimetype": "text/x-python",
   "name": "python",
   "nbconvert_exporter": "python",
   "pygments_lexer": "ipython3",
   "version": "3.6.1"
  }
 },
 "nbformat": 4,
 "nbformat_minor": 2
}
