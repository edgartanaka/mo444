{
 "cells": [
  {
   "cell_type": "markdown",
   "metadata": {
    "deletable": true,
    "editable": true
   },
   "source": [
    "# Exercicio 2 - Regressão Logística\n",
    "MO 444 - Aprendizado de Maquina (Prof. Jacques Wainer)<br>\n",
    "Edgar Kenji Tanaka <br>\n",
    "RA 023577 <br>\n"
   ]
  },
  {
   "cell_type": "markdown",
   "metadata": {
    "deletable": true,
    "editable": true
   },
   "source": [
    "## General code & Preprocessing"
   ]
  },
  {
   "cell_type": "code",
   "execution_count": 47,
   "metadata": {
    "collapsed": false,
    "deletable": true,
    "editable": true
   },
   "outputs": [],
   "source": [
    "import pandas as pd\n",
    "import numpy as np\n",
    "from sklearn import linear_model, preprocessing\n",
    "from sklearn.decomposition import PCA\n",
    "\n",
    "# parameters\n",
    "split_index = 3133\n",
    "threshold = 13\n",
    "\n",
    "# Pre-processing\n",
    "def preprocess(df):    \n",
    "    # convert feature from numerical to categorical\n",
    "    y = np.where(df.ix[:,8] > threshold, 1,0)\n",
    "\n",
    "    # drop target column\n",
    "    x = df.drop(df.columns[[8]], axis=1)\n",
    "\n",
    "    # one hot encode gender feature\n",
    "    x = pd.get_dummies(x)    \n",
    "    \n",
    "    # split dataset into train and test\n",
    "    train_x = x.ix[:(split_index - 1),]\n",
    "    test_x = x.ix[split_index:,]\n",
    "    train_y = y[:split_index] \n",
    "    test_y = y[split_index:]\n",
    "    \n",
    "    return train_x, test_x, train_y, test_y\n",
    "\n",
    "# Total correct predictions divided by total number of samples\n",
    "def accuracy(predicted, y):    \n",
    "    return np.sum(predicted == y) / y.shape[0]\n",
    "\n",
    "df = pd.read_csv('abalone.csv', header=None)\n",
    "train_x, test_x, train_y, test_y = preprocess(df)"
   ]
  },
  {
   "cell_type": "markdown",
   "metadata": {
    "deletable": true,
    "editable": true
   },
   "source": [
    "## 2. Sem regularização"
   ]
  },
  {
   "cell_type": "code",
   "execution_count": 48,
   "metadata": {
    "collapsed": false,
    "deletable": true,
    "editable": true
   },
   "outputs": [
    {
     "name": "stdout",
     "output_type": "stream",
     "text": [
      "2. No regularization: accuracy =  0.897\n"
     ]
    }
   ],
   "source": [
    "# 2. train model C=1000000\n",
    "logistic = linear_model.LogisticRegression(random_state=1, C=1000000)\n",
    "logistic.fit(train_x, train_y)\n",
    "predicted = logistic.predict(test_x)\n",
    "print(\"2. No regularization: accuracy = \", \"%.3f\" % accuracy(predicted,test_y))"
   ]
  },
  {
   "cell_type": "markdown",
   "metadata": {
    "deletable": true,
    "editable": true
   },
   "source": [
    "## 3. Com regularização"
   ]
  },
  {
   "cell_type": "code",
   "execution_count": 49,
   "metadata": {
    "collapsed": false,
    "deletable": true,
    "editable": true
   },
   "outputs": [
    {
     "name": "stdout",
     "output_type": "stream",
     "text": [
      "3. With regularization C=1: accuracy =  0.892\n"
     ]
    }
   ],
   "source": [
    "# 3. train model C=1\n",
    "logistic = linear_model.LogisticRegression(random_state=1, C=1)\n",
    "logistic.fit(train_x, train_y)\n",
    "predicted = logistic.predict(test_x)\n",
    "print(\"3. With regularization C=1: accuracy = \", \"%.3f\" % accuracy(predicted,test_y))"
   ]
  },
  {
   "cell_type": "markdown",
   "metadata": {
    "deletable": true,
    "editable": true
   },
   "source": [
    "## 4. Estandarização + sem regularização\n",
    "A standardirazacao é feita apenas no conjunto de treino e não no de teste, como instruído em aula."
   ]
  },
  {
   "cell_type": "code",
   "execution_count": 50,
   "metadata": {
    "collapsed": false,
    "deletable": true,
    "editable": true
   },
   "outputs": [
    {
     "name": "stdout",
     "output_type": "stream",
     "text": [
      "4. Standardized no regularization: accuracy =  0.897\n"
     ]
    }
   ],
   "source": [
    "# 4. with standardization \n",
    "scaler = preprocessing.StandardScaler()\n",
    "scaler.fit(train_x)\n",
    "train_x_scaled = scaler.transform(train_x)\n",
    "test_x_scaled = scaler.transform(test_x)\n",
    "logistic = linear_model.LogisticRegression(random_state=1, C=1000000)\n",
    "logistic.fit(train_x_scaled, train_y)\n",
    "predicted = logistic.predict(test_x_scaled)\n",
    "print(\"4. Standardized no regularization: accuracy = \", \"%.3f\" % accuracy(predicted,test_y))"
   ]
  },
  {
   "cell_type": "markdown",
   "metadata": {
    "deletable": true,
    "editable": true
   },
   "source": [
    "## 5. Aplicando PCA\n",
    "Descobrimos que são necessários 3 componentes para se obter uma variancia de pelo menos 90%."
   ]
  },
  {
   "cell_type": "code",
   "execution_count": 51,
   "metadata": {
    "collapsed": false,
    "deletable": true,
    "editable": true
   },
   "outputs": [
    {
     "name": "stdout",
     "output_type": "stream",
     "text": [
      "With 2 components, variance: 0.846865964225\n",
      "With 3 components, variance: 0.990993418446\n"
     ]
    }
   ],
   "source": [
    "# 5. PCA\n",
    "# 3 components -> 0.990992575678\n",
    "# 2 components -> 0.847501406213\n",
    "pca = PCA(n_components=2)\n",
    "pca.fit(train_x)\n",
    "print(\"With 2 components, variance:\", np.sum(pca.explained_variance_ratio_))\n",
    "pca = PCA(n_components=3)\n",
    "pca.fit(train_x)\n",
    "print(\"With 3 components, variance:\", np.sum(pca.explained_variance_ratio_))\n",
    "train_x_pca = pca.transform(train_x)\n",
    "test_x_pca = pca.transform(test_x)"
   ]
  },
  {
   "cell_type": "markdown",
   "metadata": {
    "deletable": true,
    "editable": true
   },
   "source": [
    "## 6. PCA + sem regularização"
   ]
  },
  {
   "cell_type": "code",
   "execution_count": 52,
   "metadata": {
    "collapsed": false,
    "deletable": true,
    "editable": true
   },
   "outputs": [
    {
     "name": "stdout",
     "output_type": "stream",
     "text": [
      "6. PCA without regularization: accuracy =  0.884\n"
     ]
    }
   ],
   "source": [
    "# 6. PCA without regularization\n",
    "logistic = linear_model.LogisticRegression(random_state=1, C=1000000)\n",
    "logistic.fit(train_x_pca, train_y)\n",
    "predicted = logistic.predict(test_x_pca)\n",
    "print(\"6. PCA without regularization: accuracy = \", \"%.3f\" % accuracy(predicted,test_y))"
   ]
  },
  {
   "cell_type": "markdown",
   "metadata": {
    "deletable": true,
    "editable": true
   },
   "source": [
    "## 7. PCA + com regularização"
   ]
  },
  {
   "cell_type": "code",
   "execution_count": 53,
   "metadata": {
    "collapsed": false,
    "deletable": true,
    "editable": true
   },
   "outputs": [
    {
     "name": "stdout",
     "output_type": "stream",
     "text": [
      "7. PCA with regularization: accuracy =  0.884\n"
     ]
    }
   ],
   "source": [
    "# 7. PCA with regularization\n",
    "logistic = linear_model.LogisticRegression(random_state=1, C=1)\n",
    "logistic.fit(train_x_pca, train_y)\n",
    "predicted = logistic.predict(test_x_pca)\n",
    "print(\"7. PCA with regularization: accuracy = \", \"%.3f\" % accuracy(predicted,test_y))"
   ]
  },
  {
   "cell_type": "markdown",
   "metadata": {
    "deletable": true,
    "editable": true
   },
   "source": [
    "## 8. Abalone missing data\n",
    "Sem estandarização, sem PCA, sem regularização"
   ]
  },
  {
   "cell_type": "code",
   "execution_count": 54,
   "metadata": {
    "collapsed": false,
    "deletable": true,
    "editable": true
   },
   "outputs": [
    {
     "name": "stdout",
     "output_type": "stream",
     "text": [
      "8. Accuracy =  0.887\n"
     ]
    }
   ],
   "source": [
    "# 8. Leia o arquivo abalone-missing.csv com dados faltantes na 2 a penúltima coluna. \n",
    "# Faça o preprocessamento descrito em 1. e impute pela média os valores faltantes. \n",
    "# Rode a regressão sem regularização, sem PCA e sem estandardização.\n",
    "df = pd.read_csv('abalone-missing.csv', header=None)\n",
    "\n",
    "train_x, test_x, train_y, test_y = preprocess(df)\n",
    "\n",
    "# fill NAs with average\n",
    "imputer = preprocessing.Imputer()\n",
    "imputer.fit(train_x)\n",
    "train_x = imputer.transform(train_x)\n",
    "test_x = imputer.transform(test_x)\n",
    "\n",
    "logistic = linear_model.LogisticRegression(random_state=1, C=1000000)\n",
    "logistic.fit(train_x, train_y)\n",
    "predicted = logistic.predict(test_x)\n",
    "print(\"8. Accuracy = \", \"%.3f\" % accuracy(predicted,test_y))"
   ]
  }
 ],
 "metadata": {
  "kernelspec": {
   "display_name": "Python 3",
   "language": "python",
   "name": "python3"
  },
  "language_info": {
   "codemirror_mode": {
    "name": "ipython",
    "version": 3
   },
   "file_extension": ".py",
   "mimetype": "text/x-python",
   "name": "python",
   "nbconvert_exporter": "python",
   "pygments_lexer": "ipython3",
   "version": "3.6.1"
  }
 },
 "nbformat": 4,
 "nbformat_minor": 2
}
