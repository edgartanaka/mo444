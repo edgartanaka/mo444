{
 "cells": [
  {
   "cell_type": "markdown",
   "metadata": {
    "deletable": true,
    "editable": true
   },
   "source": [
    "## Exercício 4\n"
   ]
  },
  {
   "cell_type": "code",
   "execution_count": 34,
   "metadata": {
    "collapsed": false,
    "deletable": true,
    "editable": true
   },
   "outputs": [],
   "source": [
    "'''\n",
    "Exercicio 4\n",
    "Edgar Kenji Tanaka\n",
    "RA 023577\n",
    "MO444 - Aprendizado de Maquina\n",
    "Prof. Jacques Wainer\n",
    "1s. 2017\n",
    "Data de entrega 15/5/2017\n",
    "\n",
    "Use os dados do arquivo abalone FaÃ§a os pre-processamentos do exercicio 3.\n",
    "\n",
    "Usando um 5-fold externo para calcular a accuracia, \n",
    "e um 3-fold interno para a escolha dos hyperparametros, \n",
    "determine qual algoritimo entre kNN, SVM com kernel RBF, \n",
    "redes neurais, Random Forest, e Gradient Boosting Machine tem a maior acuracia. \n",
    "Imprima a acuracia com 3 digitos.\n",
    "\n",
    "Voce nao precisam fazer os loops da validacao cruzada explicitamente. Pode usar a funÃ§Ã£o GridSearchCV do SKlearn..\n",
    "Reporte a acuracia (com 3 digitos) de cada algoritmo calculada pelo 5-fold CV externo.\n",
    "Para o algoritmo com maior accuracia, reporte o valor dos hiperparamtertos obtidos para gerar o classificador final.\n",
    "'''\n",
    "\n",
    "import pandas as pd\n",
    "import numpy as np\n",
    "import matplotlib.pyplot as plt\n",
    "from sklearn import linear_model, preprocessing, svm\n",
    "from sklearn.decomposition import PCA\n",
    "from sklearn.model_selection import StratifiedKFold, GridSearchCV\n",
    "from sklearn.metrics import accuracy_score\n",
    "from sklearn.discriminant_analysis import LinearDiscriminantAnalysis\n",
    "from sklearn.neural_network import MLPClassifier\n",
    "from sklearn.ensemble import RandomForestClassifier\n",
    "from sklearn.ensemble import GradientBoostingClassifier\n",
    "from sklearn import preprocessing\n",
    "from sklearn.decomposition import PCA\n",
    "\n",
    "# Pre-processing\n",
    "def get_data():\n",
    "    df = pd.read_csv('abalone.csv', header=None)\n",
    "    \n",
    "    # convert feature from numerical to categorical\n",
    "    y = np.where(df.ix[:,8] > 13, 1,0)\n",
    "\n",
    "    # drop target column\n",
    "    x = df.drop(df.columns[[8]], axis=1)\n",
    "\n",
    "    # one hot encode gender feature\n",
    "    x = pd.get_dummies(x)    \n",
    "    \n",
    "    # standardization \n",
    "    scaler = preprocessing.StandardScaler()\n",
    "    x = scaler.fit_transform(x)\n",
    "    \n",
    "    return x, y\n",
    "\n",
    "# create k-fold of outer loop\n",
    "X, y = get_data()\n",
    "outter = StratifiedKFold(n_splits=5, random_state=1)"
   ]
  },
  {
   "cell_type": "code",
   "execution_count": 35,
   "metadata": {
    "collapsed": false,
    "deletable": true,
    "editable": true
   },
   "outputs": [
    {
     "name": "stdout",
     "output_type": "stream",
     "text": [
      "sum of variance: 0.932331370613\n",
      "best hyper parameters\n",
      "{'n_neighbors': 21}\n",
      "----------------------------\n",
      "sum of variance: 0.934819705714\n",
      "best hyper parameters\n",
      "{'n_neighbors': 25}\n",
      "----------------------------\n",
      "sum of variance: 0.947255388074\n",
      "best hyper parameters\n",
      "{'n_neighbors': 21}\n",
      "----------------------------\n",
      "sum of variance: 0.933587142903\n",
      "best hyper parameters\n",
      "{'n_neighbors': 21}\n",
      "----------------------------\n",
      "sum of variance: 0.932053657906\n",
      "best hyper parameters\n",
      "{'n_neighbors': 21}\n",
      "----------------------------\n",
      "accuracies: [0.88157894736842102, 0.88277511961722488, 0.88263473053892216, 0.88023952095808389, 0.88263473053892216]\n",
      "mean accuracy: 0.882\n"
     ]
    }
   ],
   "source": [
    "# 1. knn\n",
    "# Para o kNN, faca um PCA que mantem 90% da variancia. \n",
    "# Busque os valores do k entre os valores 1, 5, 11, 15, 21, 25.\n",
    "from sklearn.neighbors import KNeighborsClassifier\n",
    "\n",
    "accs = []\n",
    "for train_index, test_index in outter.split(X, y):\n",
    "    X_train, X_test = X[train_index], X[test_index]\n",
    "    y_train, y_test = y[train_index], y[test_index]\n",
    "    \n",
    "    # PCA\n",
    "    pca = PCA(n_components=0.9)\n",
    "    X_train_pca = pca.fit_transform(X_train)\n",
    "    X_test_pca = pca.transform(X_test)\n",
    "    \n",
    "    print('sum of variance:',sum(pca.explained_variance_ratio_))\n",
    "    clf = KNeighborsClassifier(n_neighbors=6)\n",
    "    \n",
    "    # find best hyperparams\n",
    "    parameters = {'n_neighbors':(1, 5, 11, 15, 21, 25)}\n",
    "    clf = GridSearchCV(KNeighborsClassifier(), parameters, cv=3)\n",
    "    clf.fit(X_train_pca, y_train)\n",
    "    \n",
    "    # train with the best hyperparams\n",
    "    print('best hyper parameters')\n",
    "    print(clf.best_params_)\n",
    "    clf = KNeighborsClassifier(n_neighbors=clf.best_params_['n_neighbors'])\n",
    "    clf.fit(X_train_pca, y_train)\n",
    "    accs.append(clf.score(X_test_pca, y_test))\n",
    "    \n",
    "    print('----------------------------')\n",
    "\n",
    "print('accuracies:', accs)\n",
    "print('mean accuracy:', \"%.3f\" % np.mean(accs))"
   ]
  },
  {
   "cell_type": "code",
   "execution_count": 36,
   "metadata": {
    "collapsed": false,
    "deletable": true,
    "editable": true
   },
   "outputs": [
    {
     "name": "stdout",
     "output_type": "stream",
     "text": [
      "best hyper parameters\n",
      "{'max_features': 2, 'n_estimators': 200}\n",
      "----------------------------\n",
      "best hyper parameters\n",
      "{'max_features': 5, 'n_estimators': 800}\n",
      "----------------------------\n",
      "best hyper parameters\n",
      "{'max_features': 2, 'n_estimators': 200}\n",
      "----------------------------\n",
      "best hyper parameters\n",
      "{'max_features': 2, 'n_estimators': 400}\n",
      "----------------------------\n",
      "best hyper parameters\n",
      "{'max_features': 3, 'n_estimators': 800}\n",
      "----------------------------\n",
      "[0.87799043062200954, 0.89593301435406703, 0.9017964071856287, 0.88502994011976044, 0.89101796407185629]\n",
      "mean accuracy: 0.890\n"
     ]
    }
   ],
   "source": [
    "# 4. rf\n",
    "# Para o RF, teste max_features = 2, 3, 5, 7 e n_estimators = 100, 200, 400 e 800.\n",
    "accs = []\n",
    "for train_index, test_index in outter.split(X, y):\n",
    "    X_train, X_test = X[train_index], X[test_index]\n",
    "    y_train, y_test = y[train_index], y[test_index]\n",
    "    \n",
    "    # find best hyperparams\n",
    "    parameters = {'max_features':(2, 3, 5, 7), 'n_estimators':(100, 200, 400, 800)}\n",
    "    clf = GridSearchCV(RandomForestClassifier(random_state=1), parameters, cv=3)\n",
    "    clf.fit(X_train, y_train)\n",
    "    \n",
    "    # train with the best hyperparams\n",
    "    print('best hyper parameters')\n",
    "    print(clf.best_params_)\n",
    "    clf = RandomForestClassifier(random_state=1, \n",
    "                                 n_estimators=clf.best_params_['n_estimators'], \n",
    "                                 max_features=clf.best_params_['max_features'])\n",
    "    clf.fit(X_train, y_train)\n",
    "    acc = clf.score(X_test, y_test)\n",
    "    accs.append(acc)\n",
    "    \n",
    "    print('----------------------------')\n",
    "\n",
    "print(accs)\n",
    "print('mean accuracy:', \"%.3f\" % np.mean(accs))"
   ]
  },
  {
   "cell_type": "code",
   "execution_count": 37,
   "metadata": {
    "collapsed": false,
    "deletable": true,
    "editable": true
   },
   "outputs": [
    {
     "name": "stdout",
     "output_type": "stream",
     "text": [
      "best hyper parameters\n",
      "{'learning_rate': 0.1, 'n_estimators': 70}\n",
      "----------------------------\n",
      "best hyper parameters\n",
      "{'learning_rate': 0.1, 'n_estimators': 70}\n",
      "----------------------------\n",
      "best hyper parameters\n",
      "{'learning_rate': 0.05, 'n_estimators': 70}\n",
      "----------------------------\n",
      "best hyper parameters\n",
      "{'learning_rate': 0.05, 'n_estimators': 100}\n",
      "----------------------------\n",
      "best hyper parameters\n",
      "{'learning_rate': 0.05, 'n_estimators': 70}\n",
      "----------------------------\n",
      "[0.87918660287081341, 0.89234449760765555, 0.90059880239520962, 0.88742514970059883, 0.89341317365269457]\n",
      "mean accuracy: 0.891\n"
     ]
    }
   ],
   "source": [
    "# 5. gbm\n",
    "# Para o GBM (ou XGB) teste para numero de arvores = 30, 70, e 100, \n",
    "# com learning rate de 0.1 e 0.05, e profundidade da arvore=5.\n",
    "# Voce pode tanto usar a versao do SKlearn ou o XGBoost.\n",
    "accs = []\n",
    "for train_index, test_index in outter.split(X, y):\n",
    "    X_train, X_test = X[train_index], X[test_index]\n",
    "    y_train, y_test = y[train_index], y[test_index]\n",
    "    \n",
    "    # find best hyperparams\n",
    "    parameters = {'n_estimators':(30, 70, 100), 'learning_rate':(0.1, 0.05)}\n",
    "    clf = GridSearchCV(GradientBoostingClassifier(max_depth=5, random_state=1), parameters, cv=3)\n",
    "    clf.fit(X_train, y_train)\n",
    "    \n",
    "    # train with the best hyperparams\n",
    "    print('best hyper parameters')\n",
    "    print(clf.best_params_)\n",
    "    clf = GradientBoostingClassifier(max_depth=5, random_state=1, \n",
    "                                     n_estimators=clf.best_params_['n_estimators'], \n",
    "                                     learning_rate=clf.best_params_['learning_rate'])\n",
    "    clf.fit(X_train, y_train)\n",
    "    accs.append(clf.score(X_test, y_test))\n",
    "    \n",
    "    print('----------------------------')\n",
    "\n",
    "print(accs)\n",
    "print('mean accuracy:', \"%.3f\" % np.mean(accs))"
   ]
  },
  {
   "cell_type": "code",
   "execution_count": 38,
   "metadata": {
    "collapsed": false,
    "deletable": true,
    "editable": true
   },
   "outputs": [
    {
     "name": "stdout",
     "output_type": "stream",
     "text": [
      "best hyper parameters\n",
      "{'C': 1024.0, 'gamma': 0.0009765625}\n",
      "----------------------------\n",
      "best hyper parameters\n",
      "{'C': 32.0, 'gamma': 0.03125}\n",
      "----------------------------\n",
      "best hyper parameters\n",
      "{'C': 1024.0, 'gamma': 0.0009765625}\n",
      "----------------------------\n",
      "best hyper parameters\n",
      "{'C': 1024.0, 'gamma': 0.0009765625}\n",
      "----------------------------\n",
      "best hyper parameters\n",
      "{'C': 1024.0, 'gamma': 0.0009765625}\n",
      "----------------------------\n",
      "[0.89832535885167464, 0.88516746411483249, 0.89820359281437123, 0.89341317365269457, 0.88502994011976044]\n",
      "mean accuracy: 0.892\n"
     ]
    }
   ],
   "source": [
    "# 2. svm\n",
    "# Para o SVM RBF teste para C=2**(-5), 2**(0), 2**(5), 2**(10) \n",
    "# e gamma= 2**(-15) 2**(-10) 2**(-5) 2**(0) 2**(5).\n",
    "accs = []\n",
    "for train_index, test_index in outter.split(X, y):\n",
    "    X_train, X_test = X[train_index], X[test_index]\n",
    "    y_train, y_test = y[train_index], y[test_index]\n",
    "    \n",
    "    # find best hyperparams\n",
    "    gammas = 2 ** np.array([-15.0, -10.0, -5.0, 0.0, 5.0])\n",
    "    costs = 2 ** np.array([-5.0, 0.0, 5.0, 10.0])\n",
    "    parameters = {'C': costs, 'gamma': gammas}\n",
    "    clf = GridSearchCV(svm.SVC(kernel='rbf'), parameters, cv=3)\n",
    "    clf.fit(X_train, y_train)\n",
    "    \n",
    "    # train with the best hyperparams\n",
    "    print('best hyper parameters')\n",
    "    print(clf.best_params_)\n",
    "    svr = svm.SVC(C=clf.best_params_['C'], gamma=clf.best_params_['gamma'])\n",
    "    svr.fit(X_train, y_train)\n",
    "    accs.append(svr.score(X_test, y_test))\n",
    "    \n",
    "    print('----------------------------')\n",
    "\n",
    "print(accs)\n",
    "print('mean accuracy:', \"%.3f\" % np.mean(accs))"
   ]
  },
  {
   "cell_type": "code",
   "execution_count": 39,
   "metadata": {
    "collapsed": false,
    "deletable": true,
    "editable": true
   },
   "outputs": [
    {
     "name": "stderr",
     "output_type": "stream",
     "text": [
      "/Users/tanakaed/anaconda3/envs/condaenv/lib/python3.6/site-packages/sklearn/neural_network/multilayer_perceptron.py:563: ConvergenceWarning: Stochastic Optimizer: Maximum iterations reached and the optimization hasn't converged yet.\n",
      "  % (), ConvergenceWarning)\n",
      "/Users/tanakaed/anaconda3/envs/condaenv/lib/python3.6/site-packages/sklearn/neural_network/multilayer_perceptron.py:563: ConvergenceWarning: Stochastic Optimizer: Maximum iterations reached and the optimization hasn't converged yet.\n",
      "  % (), ConvergenceWarning)\n",
      "/Users/tanakaed/anaconda3/envs/condaenv/lib/python3.6/site-packages/sklearn/neural_network/multilayer_perceptron.py:563: ConvergenceWarning: Stochastic Optimizer: Maximum iterations reached and the optimization hasn't converged yet.\n",
      "  % (), ConvergenceWarning)\n",
      "/Users/tanakaed/anaconda3/envs/condaenv/lib/python3.6/site-packages/sklearn/neural_network/multilayer_perceptron.py:563: ConvergenceWarning: Stochastic Optimizer: Maximum iterations reached and the optimization hasn't converged yet.\n",
      "  % (), ConvergenceWarning)\n"
     ]
    },
    {
     "name": "stdout",
     "output_type": "stream",
     "text": [
      "best hyper parameters\n",
      "{'hidden_layer_sizes': (7,)}\n",
      "----------------------------\n"
     ]
    },
    {
     "name": "stderr",
     "output_type": "stream",
     "text": [
      "/Users/tanakaed/anaconda3/envs/condaenv/lib/python3.6/site-packages/sklearn/neural_network/multilayer_perceptron.py:563: ConvergenceWarning: Stochastic Optimizer: Maximum iterations reached and the optimization hasn't converged yet.\n",
      "  % (), ConvergenceWarning)\n",
      "/Users/tanakaed/anaconda3/envs/condaenv/lib/python3.6/site-packages/sklearn/neural_network/multilayer_perceptron.py:563: ConvergenceWarning: Stochastic Optimizer: Maximum iterations reached and the optimization hasn't converged yet.\n",
      "  % (), ConvergenceWarning)\n",
      "/Users/tanakaed/anaconda3/envs/condaenv/lib/python3.6/site-packages/sklearn/neural_network/multilayer_perceptron.py:563: ConvergenceWarning: Stochastic Optimizer: Maximum iterations reached and the optimization hasn't converged yet.\n",
      "  % (), ConvergenceWarning)\n",
      "/Users/tanakaed/anaconda3/envs/condaenv/lib/python3.6/site-packages/sklearn/neural_network/multilayer_perceptron.py:563: ConvergenceWarning: Stochastic Optimizer: Maximum iterations reached and the optimization hasn't converged yet.\n",
      "  % (), ConvergenceWarning)\n",
      "/Users/tanakaed/anaconda3/envs/condaenv/lib/python3.6/site-packages/sklearn/neural_network/multilayer_perceptron.py:563: ConvergenceWarning: Stochastic Optimizer: Maximum iterations reached and the optimization hasn't converged yet.\n",
      "  % (), ConvergenceWarning)\n"
     ]
    },
    {
     "name": "stdout",
     "output_type": "stream",
     "text": [
      "best hyper parameters\n",
      "{'hidden_layer_sizes': (20,)}\n",
      "----------------------------\n"
     ]
    },
    {
     "name": "stderr",
     "output_type": "stream",
     "text": [
      "/Users/tanakaed/anaconda3/envs/condaenv/lib/python3.6/site-packages/sklearn/neural_network/multilayer_perceptron.py:563: ConvergenceWarning: Stochastic Optimizer: Maximum iterations reached and the optimization hasn't converged yet.\n",
      "  % (), ConvergenceWarning)\n",
      "/Users/tanakaed/anaconda3/envs/condaenv/lib/python3.6/site-packages/sklearn/neural_network/multilayer_perceptron.py:563: ConvergenceWarning: Stochastic Optimizer: Maximum iterations reached and the optimization hasn't converged yet.\n",
      "  % (), ConvergenceWarning)\n",
      "/Users/tanakaed/anaconda3/envs/condaenv/lib/python3.6/site-packages/sklearn/neural_network/multilayer_perceptron.py:563: ConvergenceWarning: Stochastic Optimizer: Maximum iterations reached and the optimization hasn't converged yet.\n",
      "  % (), ConvergenceWarning)\n",
      "/Users/tanakaed/anaconda3/envs/condaenv/lib/python3.6/site-packages/sklearn/neural_network/multilayer_perceptron.py:563: ConvergenceWarning: Stochastic Optimizer: Maximum iterations reached and the optimization hasn't converged yet.\n",
      "  % (), ConvergenceWarning)\n",
      "/Users/tanakaed/anaconda3/envs/condaenv/lib/python3.6/site-packages/sklearn/neural_network/multilayer_perceptron.py:563: ConvergenceWarning: Stochastic Optimizer: Maximum iterations reached and the optimization hasn't converged yet.\n",
      "  % (), ConvergenceWarning)\n",
      "/Users/tanakaed/anaconda3/envs/condaenv/lib/python3.6/site-packages/sklearn/neural_network/multilayer_perceptron.py:563: ConvergenceWarning: Stochastic Optimizer: Maximum iterations reached and the optimization hasn't converged yet.\n",
      "  % (), ConvergenceWarning)\n"
     ]
    },
    {
     "name": "stdout",
     "output_type": "stream",
     "text": [
      "best hyper parameters\n",
      "{'hidden_layer_sizes': (10,)}\n",
      "----------------------------\n"
     ]
    },
    {
     "name": "stderr",
     "output_type": "stream",
     "text": [
      "/Users/tanakaed/anaconda3/envs/condaenv/lib/python3.6/site-packages/sklearn/neural_network/multilayer_perceptron.py:563: ConvergenceWarning: Stochastic Optimizer: Maximum iterations reached and the optimization hasn't converged yet.\n",
      "  % (), ConvergenceWarning)\n",
      "/Users/tanakaed/anaconda3/envs/condaenv/lib/python3.6/site-packages/sklearn/neural_network/multilayer_perceptron.py:563: ConvergenceWarning: Stochastic Optimizer: Maximum iterations reached and the optimization hasn't converged yet.\n",
      "  % (), ConvergenceWarning)\n",
      "/Users/tanakaed/anaconda3/envs/condaenv/lib/python3.6/site-packages/sklearn/neural_network/multilayer_perceptron.py:563: ConvergenceWarning: Stochastic Optimizer: Maximum iterations reached and the optimization hasn't converged yet.\n",
      "  % (), ConvergenceWarning)\n",
      "/Users/tanakaed/anaconda3/envs/condaenv/lib/python3.6/site-packages/sklearn/neural_network/multilayer_perceptron.py:563: ConvergenceWarning: Stochastic Optimizer: Maximum iterations reached and the optimization hasn't converged yet.\n",
      "  % (), ConvergenceWarning)\n",
      "/Users/tanakaed/anaconda3/envs/condaenv/lib/python3.6/site-packages/sklearn/neural_network/multilayer_perceptron.py:563: ConvergenceWarning: Stochastic Optimizer: Maximum iterations reached and the optimization hasn't converged yet.\n",
      "  % (), ConvergenceWarning)\n",
      "/Users/tanakaed/anaconda3/envs/condaenv/lib/python3.6/site-packages/sklearn/neural_network/multilayer_perceptron.py:563: ConvergenceWarning: Stochastic Optimizer: Maximum iterations reached and the optimization hasn't converged yet.\n",
      "  % (), ConvergenceWarning)\n"
     ]
    },
    {
     "name": "stdout",
     "output_type": "stream",
     "text": [
      "best hyper parameters\n",
      "{'hidden_layer_sizes': (10,)}\n",
      "----------------------------\n"
     ]
    },
    {
     "name": "stderr",
     "output_type": "stream",
     "text": [
      "/Users/tanakaed/anaconda3/envs/condaenv/lib/python3.6/site-packages/sklearn/neural_network/multilayer_perceptron.py:563: ConvergenceWarning: Stochastic Optimizer: Maximum iterations reached and the optimization hasn't converged yet.\n",
      "  % (), ConvergenceWarning)\n",
      "/Users/tanakaed/anaconda3/envs/condaenv/lib/python3.6/site-packages/sklearn/neural_network/multilayer_perceptron.py:563: ConvergenceWarning: Stochastic Optimizer: Maximum iterations reached and the optimization hasn't converged yet.\n",
      "  % (), ConvergenceWarning)\n",
      "/Users/tanakaed/anaconda3/envs/condaenv/lib/python3.6/site-packages/sklearn/neural_network/multilayer_perceptron.py:563: ConvergenceWarning: Stochastic Optimizer: Maximum iterations reached and the optimization hasn't converged yet.\n",
      "  % (), ConvergenceWarning)\n",
      "/Users/tanakaed/anaconda3/envs/condaenv/lib/python3.6/site-packages/sklearn/neural_network/multilayer_perceptron.py:563: ConvergenceWarning: Stochastic Optimizer: Maximum iterations reached and the optimization hasn't converged yet.\n",
      "  % (), ConvergenceWarning)\n",
      "/Users/tanakaed/anaconda3/envs/condaenv/lib/python3.6/site-packages/sklearn/neural_network/multilayer_perceptron.py:563: ConvergenceWarning: Stochastic Optimizer: Maximum iterations reached and the optimization hasn't converged yet.\n",
      "  % (), ConvergenceWarning)\n",
      "/Users/tanakaed/anaconda3/envs/condaenv/lib/python3.6/site-packages/sklearn/neural_network/multilayer_perceptron.py:563: ConvergenceWarning: Stochastic Optimizer: Maximum iterations reached and the optimization hasn't converged yet.\n",
      "  % (), ConvergenceWarning)\n"
     ]
    },
    {
     "name": "stdout",
     "output_type": "stream",
     "text": [
      "best hyper parameters\n",
      "{'hidden_layer_sizes': (20,)}\n",
      "----------------------------\n",
      "[0.88995215311004783, 0.8935406698564593, 0.90898203592814375, 0.89580838323353296, 0.89221556886227549]\n",
      "mean accuracy: 0.896\n"
     ]
    }
   ],
   "source": [
    "# 3. rede neural\n",
    "# Para a rede neural, teste com 3, 7, 10, e 20 neuronios na camada escondida.\n",
    "accs = []\n",
    "for train_index, test_index in outter.split(X, y):\n",
    "    X_train, X_test = X[train_index], X[test_index]\n",
    "    y_train, y_test = y[train_index], y[test_index]\n",
    "    \n",
    "    # find best hyperparams\n",
    "    parameters = {'hidden_layer_sizes':((3,),(7,),(10,),(20,))}\n",
    "    clf = GridSearchCV(MLPClassifier(random_state=1), parameters, cv=3)\n",
    "    clf.fit(X_train, y_train)    \n",
    "    \n",
    "    # train with the best hyperparams\n",
    "    print('best hyper parameters')\n",
    "    print(clf.best_params_)\n",
    "    model = MLPClassifier(random_state=1, hidden_layer_sizes=clf.best_params_['hidden_layer_sizes'])\n",
    "    model.fit(X_train, y_train)\n",
    "    acc = model.score(X_test, y_test)\n",
    "    accs.append(acc)\n",
    "    \n",
    "    print('----------------------------')\n",
    "\n",
    "print(accs)\n",
    "print('mean accuracy:', \"%.3f\" % np.mean(accs))"
   ]
  },
  {
   "cell_type": "markdown",
   "metadata": {
    "deletable": true,
    "editable": true
   },
   "source": [
    "## Melhor classificador\n",
    "Resultados:\n",
    "- KNN: 0.882\n",
    "- RF: 0.890\n",
    "- SVM: 0.892\n",
    "- GBM: 0.891\n",
    "- NN: 0.896\n",
    "\n",
    "O melhor classificador encontrado foi o Neural Network com acurácia de 0.896.<BR>\n",
    "\n",
    "Abaixo, treinamos este classificador agora com todos os dados do abalone (sem dividir entre treino e teste) a fim de encontrar o hiper parametro ideal."
   ]
  },
  {
   "cell_type": "code",
   "execution_count": 40,
   "metadata": {
    "collapsed": false,
    "deletable": true,
    "editable": true
   },
   "outputs": [
    {
     "name": "stderr",
     "output_type": "stream",
     "text": [
      "/Users/tanakaed/anaconda3/envs/condaenv/lib/python3.6/site-packages/sklearn/neural_network/multilayer_perceptron.py:563: ConvergenceWarning: Stochastic Optimizer: Maximum iterations reached and the optimization hasn't converged yet.\n",
      "  % (), ConvergenceWarning)\n",
      "/Users/tanakaed/anaconda3/envs/condaenv/lib/python3.6/site-packages/sklearn/neural_network/multilayer_perceptron.py:563: ConvergenceWarning: Stochastic Optimizer: Maximum iterations reached and the optimization hasn't converged yet.\n",
      "  % (), ConvergenceWarning)\n",
      "/Users/tanakaed/anaconda3/envs/condaenv/lib/python3.6/site-packages/sklearn/neural_network/multilayer_perceptron.py:563: ConvergenceWarning: Stochastic Optimizer: Maximum iterations reached and the optimization hasn't converged yet.\n",
      "  % (), ConvergenceWarning)\n",
      "/Users/tanakaed/anaconda3/envs/condaenv/lib/python3.6/site-packages/sklearn/neural_network/multilayer_perceptron.py:563: ConvergenceWarning: Stochastic Optimizer: Maximum iterations reached and the optimization hasn't converged yet.\n",
      "  % (), ConvergenceWarning)\n"
     ]
    },
    {
     "name": "stdout",
     "output_type": "stream",
     "text": [
      "best hyper parameters\n",
      "{'hidden_layer_sizes': (7,)}\n"
     ]
    }
   ],
   "source": [
    "# Final classifier now with all the data (no split of train and test)\n",
    "X, y = get_data()\n",
    "\n",
    "# find best hyperparams\n",
    "parameters = {'hidden_layer_sizes':((3,),(7,),(10,),(20,))}\n",
    "clf = GridSearchCV(MLPClassifier(random_state=1), parameters, cv=3)\n",
    "clf.fit(X, y) \n",
    "\n",
    "# train with the best hyperparams\n",
    "print('best hyper parameters')\n",
    "print(clf.best_params_)\n",
    "model = MLPClassifier(random_state=1, hidden_layer_sizes=clf.best_params_['hidden_layer_sizes'])\n",
    "final_model = model.fit(X, y) # this is the final model to go to production\n"
   ]
  }
 ],
 "metadata": {
  "kernelspec": {
   "display_name": "Python 3",
   "language": "python",
   "name": "python3"
  },
  "language_info": {
   "codemirror_mode": {
    "name": "ipython",
    "version": 3
   },
   "file_extension": ".py",
   "mimetype": "text/x-python",
   "name": "python",
   "nbconvert_exporter": "python",
   "pygments_lexer": "ipython3",
   "version": "3.6.1"
  }
 },
 "nbformat": 4,
 "nbformat_minor": 2
}
