{
 "cells": [
  {
   "cell_type": "markdown",
   "metadata": {},
   "source": [
    "## Exercício 3 (versao 1)\n",
    "- Leia o arquivo abalone do exercicio 2\n",
    "- faça o preprocessamento do atributo categorico e do atributo de saida como no exercicio 2\n",
    "- estandardize todos os atributos numéricos. Voce pode estardartizar todo o arquivo de uma vez. Como discutimos em aula esse não é a coisa 100% certa, mas é um erro menor.\n"
   ]
  },
  {
   "cell_type": "code",
   "execution_count": 18,
   "metadata": {
    "collapsed": false
   },
   "outputs": [],
   "source": [
    "import pandas as pd\n",
    "import numpy as np\n",
    "import matplotlib.pyplot as plt\n",
    "from sklearn import linear_model, preprocessing, svm\n",
    "from sklearn.decomposition import PCA\n",
    "from sklearn.model_selection import StratifiedKFold, GridSearchCV\n",
    "from sklearn.metrics import accuracy_score\n",
    "from sklearn.discriminant_analysis import LinearDiscriminantAnalysis\n",
    "\n",
    "# Constants\n",
    "costs = 10 ** np.arange(-1., 4.)\n",
    "\n",
    "# Pre-processing\n",
    "def get_data():\n",
    "    df = pd.read_csv('abalone.csv', header=None)\n",
    "    \n",
    "    # convert feature from numerical to categorical\n",
    "    y = np.where(df.ix[:,8] > 13, 1,0)\n",
    "\n",
    "    # drop target column\n",
    "    x = df.drop(df.columns[[8]], axis=1)\n",
    "\n",
    "    # one hot encode gender feature\n",
    "    x = pd.get_dummies(x)    \n",
    "    \n",
    "    # standardization \n",
    "    scaler = preprocessing.StandardScaler()\n",
    "    x = scaler.fit_transform(x)\n",
    "    \n",
    "    return x, y\n",
    "\n",
    "# Total correct predictions divided by total number of samples\n",
    "def accuracy(predicted, y):    \n",
    "    return np.sum(predicted == y) / y.shape[0]\n",
    "\n",
    "X, y = get_data()"
   ]
  },
  {
   "cell_type": "markdown",
   "metadata": {},
   "source": [
    "## Logistic Regression\n",
    "\n",
    "- faça o logistic regression com $C=10^{-1,0,1,2,3}$. O loop externo deve ser um 5-fold CV estratificado. \n",
    "- O loop interno para a escolha do hiperparametro deve ser um 3-fold estratificado.\n",
    "- voce tem que fazer o loop interno explicitamente, usando StratifiedKFold e não funções como GridSearchCV\n",
    "- qual a acurácia do LR com a melhore escolha de parametros (para cada fold)?"
   ]
  },
  {
   "cell_type": "code",
   "execution_count": 19,
   "metadata": {
    "collapsed": false
   },
   "outputs": [
    {
     "name": "stdout",
     "output_type": "stream",
     "text": [
      "best C is 1.0 with accuracy 0.895933014354\n",
      "best C is 1000.0 with accuracy 0.894736842105\n",
      "best C is 100.0 with accuracy 0.899401197605\n",
      "best C is 1000.0 with accuracy 0.900598802395\n",
      "best C is 100.0 with accuracy 0.895808383234\n",
      "mean accuracy is 0.897295647939\n"
     ]
    }
   ],
   "source": [
    "def grid_search(X, y):\n",
    "    kfold = StratifiedKFold(n_splits=3, random_state=1)    \n",
    "    accuracies = [0, 0, 0, 0, 0]\n",
    "    \n",
    "    # 3 fold to find the best C\n",
    "    for train_index, test_index in kfold.split(X, y):\n",
    "        X_train, X_test = X[train_index], X[test_index]\n",
    "        y_train, y_test = y[train_index], y[test_index]\n",
    "    \n",
    "        for i in range(len(costs)):\n",
    "            logistic = linear_model.LogisticRegression(random_state=1, C=costs[i])\n",
    "            logistic.fit(X_train, y_train)\n",
    "            acc = logistic.score(X_test, y_test)\n",
    "            accuracies[i] += acc\n",
    "    \n",
    "    # find highest accuracy and return the C for that accuracy\n",
    "    highest_acc = max(accuracies)\n",
    "    highest_acc_index = accuracies.index(highest_acc)\n",
    "    return costs[highest_acc_index]\n",
    "    \n",
    "X, y = get_data()\n",
    "outter = StratifiedKFold(n_splits=5, random_state=1)\n",
    "accs = []\n",
    "\n",
    "# outer loop\n",
    "# 5 fold to calculate accuracy for this model\n",
    "for train_index, test_index in outter.split(X, y):\n",
    "    X_train, X_test = X[train_index], X[test_index]\n",
    "    y_train, y_test = y[train_index], y[test_index]\n",
    "    \n",
    "    # inner loop\n",
    "    # pick the best cost hyper parameter\n",
    "    c = grid_search(X_train, y_train)\n",
    "    \n",
    "    logistic = linear_model.LogisticRegression(random_state=1, C=c)\n",
    "    logistic.fit(X_train, y_train)    \n",
    "    acc = logistic.score(X_test, y_test)\n",
    "    accs.append(acc)\n",
    "    print('best C is', c, 'with accuracy', acc)\n",
    "\n",
    "lr_acc = np.mean(accs)\n",
    "print('mean accuracy is', lr_acc)"
   ]
  },
  {
   "cell_type": "markdown",
   "metadata": {},
   "source": [
    "## Linear SVM\n",
    "- faça o LinearSVM com $C=10^{-1,0,1,2,3}$. O loop externo deve ser um 5-fold estratificado. \n",
    "- O loop interno um 3-fold estratificado. Neste caso voce nao precisa fazer o 3 fold explicitamente, \n",
    "- voce pode usar o GridSearchCV.\n",
    "- qual a acurácia do LinearSVM com a melhor escolha de C?"
   ]
  },
  {
   "cell_type": "code",
   "execution_count": 20,
   "metadata": {
    "collapsed": false
   },
   "outputs": [
    {
     "name": "stdout",
     "output_type": "stream",
     "text": [
      "best C is 10.0 with accuracy 0.8995215311\n",
      "best C is 10.0 with accuracy 0.897129186603\n",
      "best C is 0.1 with accuracy 0.901796407186\n",
      "best C is 1.0 with accuracy 0.899401197605\n",
      "best C is 0.1 with accuracy 0.893413173653\n",
      "mean accuracy of svm is 0.898252299229\n"
     ]
    }
   ],
   "source": [
    "X, y = get_data()\n",
    "outter = StratifiedKFold(n_splits=5, random_state=1)\n",
    "accs = []\n",
    "\n",
    "# 5 fold to calculate accuracy for this model\n",
    "for train_index, test_index in outter.split(X, y):\n",
    "    X_train, X_test = X[train_index], X[test_index]\n",
    "    y_train, y_test = y[train_index], y[test_index]\n",
    "    \n",
    "    parameters = {'C':costs}\n",
    "    svr = svm.LinearSVC()\n",
    "    clf = GridSearchCV(svr, parameters, cv=3)\n",
    "    model = clf.fit(X_train, y_train)\n",
    "    \n",
    "    svr = svm.LinearSVC(C=clf.best_params_['C'])\n",
    "    svr.fit(X_train, y_train)\n",
    "    acc = svr.score(X_test, y_test)\n",
    "    accs.append(acc)\n",
    "    print('best C is', clf.best_params_['C'], 'with accuracy', acc)\n",
    "\n",
    "svm_acc = np.mean(accs)\n",
    "print('mean accuracy of svm is', svm_acc)"
   ]
  },
  {
   "cell_type": "markdown",
   "metadata": {},
   "source": [
    "## LDA\n",
    "Faça o LDA. Reporte a acuracia"
   ]
  },
  {
   "cell_type": "code",
   "execution_count": 21,
   "metadata": {
    "collapsed": false
   },
   "outputs": [
    {
     "name": "stdout",
     "output_type": "stream",
     "text": [
      "accuracy 0.893540669856\n",
      "accuracy 0.898325358852\n",
      "accuracy 0.898203592814\n",
      "accuracy 0.897005988024\n",
      "accuracy 0.891017964072\n",
      "mean accuracy = 0.891017964072\n"
     ]
    },
    {
     "name": "stderr",
     "output_type": "stream",
     "text": [
      "/Users/tanakaed/anaconda3/envs/condaenv/lib/python3.6/site-packages/sklearn/discriminant_analysis.py:387: UserWarning: Variables are collinear.\n",
      "  warnings.warn(\"Variables are collinear.\")\n"
     ]
    }
   ],
   "source": [
    "X, y = get_data()\n",
    "outter = StratifiedKFold(n_splits=5, random_state=1)\n",
    "accs = []\n",
    "for train_index, test_index in outter.split(X, y):\n",
    "    X_train, X_test = X[train_index], X[test_index]\n",
    "    y_train, y_test = y[train_index], y[test_index]\n",
    "    \n",
    "    clf = LinearDiscriminantAnalysis()\n",
    "    clf.fit(X_train, y_train)    \n",
    "    acc = clf.score(X_test, y_test)\n",
    "    accs.append(acc)\n",
    "    print('accuracy', acc)\n",
    "\n",
    "lda_acc = np.mean(acc)\n",
    "print('mean accuracy =', lda_acc)\n"
   ]
  },
  {
   "cell_type": "markdown",
   "metadata": {},
   "source": [
    "## Classificador Final\n",
    "- qual o melhor classificador para esse problema?\n",
    "- se não o LDA, calcule o hiperparametro C a ser usado\n",
    "- gere o classificador final."
   ]
  },
  {
   "cell_type": "code",
   "execution_count": 22,
   "metadata": {
    "collapsed": false
   },
   "outputs": [
    {
     "data": {
      "image/png": "[encoded data removed]",
      "text/plain": [
       "<matplotlib.figure.Figure at 0x114a8f0b8>"
      ]
     },
     "metadata": {},
     "output_type": "display_data"
    }
   ],
   "source": [
    "fig, ax = plt.subplots()\n",
    "\n",
    "# Example data\n",
    "algos = ('LogReg', 'SVM','LDA')\n",
    "y_pos = np.arange(len(algos))\n",
    "accs = [lr_acc, svm_acc, lda_acc]\n",
    "\n",
    "ax.barh(y_pos, accs, align='center')\n",
    "ax.set_yticks(y_pos)\n",
    "ax.set_yticklabels(algos)\n",
    "ax.invert_yaxis()  # labels read top-to-bottom\n",
    "ax.set_xlabel('Accuracy')\n",
    "ax.set_title('Model Comparison')\n",
    "for i, v in enumerate(accs):\n",
    "    ax.text(v, i, str(v))\n",
    "\n",
    "plt.show()"
   ]
  },
  {
   "cell_type": "code",
   "execution_count": 23,
   "metadata": {
    "collapsed": false
   },
   "outputs": [
    {
     "name": "stdout",
     "output_type": "stream",
     "text": [
      "best model is SVM with C is 1.0\n"
     ]
    },
    {
     "data": {
      "text/plain": [
       "LinearSVC(C=1.0, class_weight=None, dual=True, fit_intercept=True,\n",
       "     intercept_scaling=1, loss='squared_hinge', max_iter=1000,\n",
       "     multi_class='ovr', penalty='l2', random_state=None, tol=0.0001,\n",
       "     verbose=0)"
      ]
     },
     "execution_count": 23,
     "metadata": {},
     "output_type": "execute_result"
    }
   ],
   "source": [
    "X, y = get_data()\n",
    "\n",
    "# pick the best cost hyper parameter\n",
    "parameters = {'C':costs}\n",
    "\n",
    "model_accs = [lr_acc, svm_acc, lda_acc]\n",
    "highest_acc = max(model_accs)\n",
    "highest_acc_index = model_accs.index(highest_acc)\n",
    "final_model = None\n",
    "\n",
    "if highest_acc_index == 2:\n",
    "    print('best model is LDA')\n",
    "    clf = LinearDiscriminantAnalysis()\n",
    "    final_model = clf.fit(X, y)\n",
    "elif highest_acc_index == 1:\n",
    "    clf = GridSearchCV(svm.LinearSVC(), parameters, cv=3)\n",
    "    model = clf.fit(X, y)\n",
    "    c = clf.best_params_['C']\n",
    "    print('best model is SVM with C is', c)\n",
    "    final_model = svm.LinearSVC(C=c)   \n",
    "else:\n",
    "    clf = GridSearchCV(linear_model.LogisticRegression(random_state=1), parameters, cv=3)\n",
    "    model = clf.fit(X, y)\n",
    "    c = clf.best_params_['C']\n",
    "    print('best model is Logistic Regression with C is', c)\n",
    "    final_model = linear_model.LogisticRegression(random_state=1, C=c)\n",
    "    \n",
    "# this is the final model to be delivered and go to production\n",
    "final_model"
   ]
  }
 ],
 "metadata": {
  "kernelspec": {
   "display_name": "Python 3",
   "language": "python",
   "name": "python3"
  },
  "language_info": {
   "codemirror_mode": {
    "name": "ipython",
    "version": 3
   },
   "file_extension": ".py",
   "mimetype": "text/x-python",
   "name": "python",
   "nbconvert_exporter": "python",
   "pygments_lexer": "ipython3",
   "version": "3.6.1"
  }
 },
 "nbformat": 4,
 "nbformat_minor": 2
}
